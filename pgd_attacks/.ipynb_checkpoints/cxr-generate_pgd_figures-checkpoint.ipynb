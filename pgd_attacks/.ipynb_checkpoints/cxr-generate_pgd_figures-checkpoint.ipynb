{
 "cells": [
  {
   "cell_type": "markdown",
   "metadata": {},
   "source": [
    "# Display Examples"
   ]
  },
  {
   "cell_type": "code",
   "execution_count": 1,
   "metadata": {
    "collapsed": true
   },
   "outputs": [
    {
     "name": "stderr",
     "output_type": "stream",
     "text": [
      "Using TensorFlow backend.\n"
     ]
    }
   ],
   "source": [
    "import numpy as np\n",
    "import tensorflow as tf\n",
    "from tensorflow.python.client import device_lib\n",
    "from sklearn import metrics\n",
    "import matplotlib.pyplot as plt\n",
    "import numpy as np\n",
    "from sklearn.metrics import auc\n",
    "import numpy as np\n",
    "import os\n",
    "from keras.models import load_model\n",
    "\n",
    "from keras.backend.tensorflow_backend import set_session\n",
    "from utils import *\n",
    "\n",
    "config = tf.ConfigProto()\n",
    "config.gpu_options.allow_growth = True\n",
    "config.gpu_options.per_process_gpu_memory_fraction = 0.4\n",
    "set_session(tf.Session(config=config))\n"
   ]
  },
  {
   "cell_type": "code",
   "execution_count": null,
   "metadata": {},
   "outputs": [
    {
     "name": "stdout",
     "output_type": "stream",
     "text": [
      "Chest X-ray / cxr\n",
      "\n",
      "WARNING:tensorflow:From /home/steinbac/.local/lib/python3.6/site-packages/tensorflow/python/framework/op_def_library.py:263: colocate_with (from tensorflow.python.framework.ops) is deprecated and will be removed in a future version.\n",
      "Instructions for updating:\n",
      "Colocations handled automatically by placer.\n"
     ]
    }
   ],
   "source": [
    "print(\"Chest X-ray / cxr\\n\")\n",
    "base_dir = '/projects/steinbac/adversarial_medical_imaging/cxr/'\n",
    "model = load_model(f'{base_dir}/wb_model.h5')\n",
    "model.summary()"
   ]
  },
  {
   "cell_type": "code",
   "execution_count": null,
   "metadata": {},
   "outputs": [],
   "source": [
    "\n",
    "(X_test, cxr_y_test,\n",
    " X_test_pgd_wb, X_test_pgd_bb) = getResults(base_dir)"
   ]
  },
  {
   "cell_type": "code",
   "execution_count": null,
   "metadata": {},
   "outputs": [],
   "source": [
    "display_adv_examples(2, X_test_pgd_wb, model, X_test, cxr_y_test, verbose = True, X_test_bb = X_test_pgd_bb)\n",
    "display_adv_examples(8378, X_test_pgd_wb, model, X_test, cxr_y_test, verbose = True, X_test_bb = X_test_pgd_bb)"
   ]
  },
  {
   "cell_type": "code",
   "execution_count": null,
   "metadata": {},
   "outputs": [],
   "source": [
    "\n",
    "import foolbox\n",
    "from foolbox.models import KerasModel\n",
    "from foolbox.attacks import LBFGSAttack\n",
    "from foolbox.criteria import TargetClassProbability, Misclassification\n",
    "\n",
    "fmodel = KerasModel(model, bounds=(-1., 1.))\n",
    "\n",
    "# run the attack\n",
    "#attack = LBFGSAttack(model=fmodel, criterion=TargetClassProbability(1, p=.7))\n",
    "#attack  = foolbox.attacks.FGSM(fmodel)\n",
    "#attack = foolbox.attacks.SaltAndPepperNoiseAttack(model=fmodel, criterion=TargetClassProbability(1, p=.5))\n",
    "\n",
    "attack = foolbox.attacks.LBFGSAttack(model=fmodel, criterion=TargetClassProbability(1, p=.7))\n",
    "image = np.asarray(X_test[1:2,...])\n",
    "print(f\"image of {image.shape} loaded\")\n",
    "\n",
    "kpred = model.predict(image)\n",
    "print(f\"model.predict labels of {np.argmax(kpred)} ({kpred}, {kpred.shape})\")\n",
    "\n",
    "pred  = fmodel.predictions(image[0])\n",
    "label = np.argmax(pred)\n",
    "print(f\"fmodel.predictions labels of {label} {label.shape} ({pred}, {pred.shape})\")\n"
   ]
  },
  {
   "cell_type": "code",
   "execution_count": null,
   "metadata": {},
   "outputs": [],
   "source": [
    "adversarial = attack( image[0] , label)                 \n",
    "if not isinstance(adversarial, type(None)):\n",
    "    print(np.argmax(fmodel.predictions(adversarial)), label)\n",
    "\n",
    "plot_to_compare(image[0], adversarial)"
   ]
  },
  {
   "cell_type": "code",
   "execution_count": null,
   "metadata": {},
   "outputs": [],
   "source": [
    "attack6 = foolbox.attacks.ContrastReductionAttack(model=fmodel, criterion=Misclassification() )\n",
    "adversarial6 = attack6( image[0] , label)\n",
    "if not isinstance(adversarial6, type(None)):\n",
    "    print(np.argmax(fmodel.predictions(adversarial6)), label)\n",
    "    plot_to_compare(image[0], adversarial6)\n",
    "else:\n",
    "    print('attack6 didn\\'t find an adversarial example')"
   ]
  },
  {
   "cell_type": "code",
   "execution_count": null,
   "metadata": {},
   "outputs": [],
   "source": [
    "attack2 = foolbox.attacks.SaltAndPepperNoiseAttack(model=fmodel, criterion=Misclassification())\n",
    "adversarial2 = attack2( image[0] , label)\n",
    "if not isinstance(adversarial2, type(None)):\n",
    "    print(np.argmax(fmodel.predictions(adversarial2)), label)\n",
    "    plot_to_compare(image[0], adversarial2)\n",
    "else:\n",
    "    print('attack2 didn\\'t find an adversarial example')"
   ]
  },
  {
   "cell_type": "code",
   "execution_count": null,
   "metadata": {},
   "outputs": [],
   "source": [
    "attack3 = foolbox.attacks.GaussianBlurAttack(model=fmodel, criterion=Misclassification())\n",
    "adversarial3 = attack3( image[0] , label)\n",
    "if not isinstance(adversarial3, type(None)):\n",
    "    print(np.argmax(fmodel.predictions(adversarial3)), label)\n",
    "    plot_to_compare(image[0], adversarial3)\n",
    "else:\n",
    "    print('attack3 didn\\'t find an adversarial example')"
   ]
  },
  {
   "cell_type": "code",
   "execution_count": null,
   "metadata": {},
   "outputs": [],
   "source": [
    "attack4 = foolbox.attacks.AdditiveUniformNoiseAttack(model=fmodel, criterion=Misclassification())\n",
    "adversarial4 = attack4( image[0] , label)\n",
    "if not isinstance(adversarial4, type(None)):\n",
    "    print(np.argmax(fmodel.predictions(adversarial4)), label)\n",
    "    plot_to_compare(image[0], adversarial4)\n",
    "else:\n",
    "    print('attack4 didn\\'t find an adversarial example')"
   ]
  },
  {
   "cell_type": "code",
   "execution_count": null,
   "metadata": {},
   "outputs": [],
   "source": [
    "attack5 = foolbox.attacks.LocalSearchAttack(model=fmodel, criterion=Misclassification())\n",
    "adversarial5 = attack5( image[0] , label)\n",
    "if not isinstance(adversarial5, type(None)):\n",
    "    print(np.argmax(fmodel.predictions(adversarial5)), label)\n",
    "    plot_to_compare(image[0], adversarial5)\n",
    "else:\n",
    "    print('attack5 didn\\'t find an adversarial example')"
   ]
  },
  {
   "cell_type": "code",
   "execution_count": null,
   "metadata": {},
   "outputs": [],
   "source": [
    "attack6 = foolbox.attacks.ContrastReductionAttack(model=fmodel, criterion=Misclassification() )\n",
    "adversarial6 = attack6( image[0] , label)\n",
    "if not isinstance(adversarial6, type(None)):\n",
    "    print(np.argmax(fmodel.predictions(adversarial6)), label)\n",
    "    plot_to_compare(image[0], adversarial6)\n",
    "else:\n",
    "    print('attack6 didn\\'t find an adversarial example')"
   ]
  },
  {
   "cell_type": "markdown",
   "metadata": {},
   "source": [
    "# Toy Model Confidence Plots"
   ]
  },
  {
   "cell_type": "code",
   "execution_count": null,
   "metadata": {
    "collapsed": true
   },
   "outputs": [],
   "source": [
    "import seaborn as sns\n",
    "import pandas as pd\n",
    "import matplotlib.pyplot as plt\n",
    "\n",
    "def confidence_plot(preds = [0.93706179, 0.06293821],\n",
    "                  labels = [\"Pneumothorax\", \"Normal\"],\n",
    "                   isNormal = True, hideText = False,\n",
    "                   diseaseTop = False):\n",
    "    sns.set(font_scale=2)\n",
    "\n",
    "    if isNormal:\n",
    "        pal = [\"red\", \"green\"]\n",
    "    else:\n",
    "        pal = [\"green\", \"red\"]\n",
    "        \n",
    "    if not diseaseTop:\n",
    "        preds.reverse()\n",
    "        pal.reverse()\n",
    "        labels.reverse()\n",
    "        \n",
    "    d = {'Model Confidence' : pd.Series(preds, index=['a', 'b']),\n",
    "         'Diagnosis' : pd.Series(labels, index=['a', 'b'])}\n",
    "    ax = sns.barplot(x=\"Model Confidence\", y=\"Diagnosis\",\n",
    "                     data=pd.DataFrame(d), palette=pal)\n",
    "    ax.set_xlim((0,1))\n",
    "    ax.set_ylabel('') \n",
    "    if hideText:\n",
    "        ax.set_yticklabels(['',''])\n",
    "        ax.set_xlabel('')\n",
    "        ax.set_xticklabels('')\n",
    "    plt.show()"
   ]
  },
  {
   "cell_type": "markdown",
   "metadata": {},
   "source": [
    "### Generate plots"
   ]
  },
  {
   "cell_type": "code",
   "execution_count": null,
   "metadata": {},
   "outputs": [],
   "source": [
    "hide_diag = False\n",
    "confidence_plot([ 0.00930259, 0.9906974],\n",
    "               [\"Malignant\", \"Benign\"],\n",
    "               isNormal = True, hideText = hide_diag)\n",
    "\n",
    "confidence_plot([1.0000000e+00, 2.2059932e-11],\n",
    "               [\"Malignant\", \"Benign\"],\n",
    "               isNormal = True, hideText = hide_diag)"
   ]
  },
  {
   "cell_type": "code",
   "execution_count": null,
   "metadata": {},
   "outputs": [],
   "source": [
    "hide_diag = False\n",
    "confidence_plot([ 0.048, 1 - 0.048],\n",
    "               [\"Diabetic \\nRetinopathy\", \"Healthy\"],\n",
    "               isNormal = True, hideText = hide_diag)\n",
    "\n",
    "confidence_plot([1.0000000e+00, 2.2059932e-11],\n",
    "               [\"Diabetic \\nRetinopathy\", \"Healthy\"],\n",
    "               isNormal = True, hideText = hide_diag)"
   ]
  },
  {
   "cell_type": "markdown",
   "metadata": {},
   "source": [
    "# ROC, Sensitivity, Specificity"
   ]
  },
  {
   "cell_type": "markdown",
   "metadata": {},
   "source": [
    "## Load Model Output"
   ]
  },
  {
   "cell_type": "code",
   "execution_count": null,
   "metadata": {},
   "outputs": [],
   "source": [
    "import numpy as np\n",
    "import os\n",
    "os.chdir('/home/sgf2/DBMI_server/adversarial_attacks/')\n",
    "\n",
    "y_test_dr = np.load('retinopathy/data/val_test_y.npy')\n",
    "preds_dr = np.load('retinopathy/data/winning_model_preds.npy') #from model 30 epochs is best right now\n",
    "print((preds_dr.shape, y_test_dr.shape))\n",
    "\n",
    "y_test_cxr = np.load('cxr/data/val_test_y.npy')\n",
    "preds_cxr = np.load('cxr/data/winning_model_preds.npy')\n",
    "print((y_test_cxr.shape, preds_cxr.shape))\n",
    "\n",
    "y_test_derm = np.load('melanoma/data/val_test_y.npy')\n",
    "preds_derm = np.load('melanoma/data/winning_model_preds.npy')\n",
    "print((preds_derm.shape, y_test_derm.shape))"
   ]
  },
  {
   "cell_type": "markdown",
   "metadata": {},
   "source": [
    "## Plot Roc"
   ]
  },
  {
   "cell_type": "code",
   "execution_count": null,
   "metadata": {},
   "outputs": [],
   "source": [
    "from sklearn import metrics\n",
    "import numpy as np\n",
    "import matplotlib.pyplot as plt\n",
    "from sklearn.metrics import auc\n",
    "\n",
    "# Generate roc curves from lists of: predictions, labels, and titles\n",
    "def plot_roc(preds_list, y_test_list ,\n",
    "             curve_titles_list = None,\n",
    "             mainTitle = 'Receiver operating characteristic curve'):\n",
    "    \n",
    "    # If input is not list, convert it to a list\n",
    "    if type(preds_list) is not list:\n",
    "        preds_list = [preds_list]\n",
    "        y_test_list = [y_test_list]\n",
    "        if curve_titles_list is not None:\n",
    "            curve_titles_list = [curve_titles_list]\n",
    "        \n",
    "    assert len(preds_list) == len(y_test_list), \"Must provide same number of preds and labels.\"\n",
    "    \n",
    "    # Set up figure of size 5x5\n",
    "    fig_size = plt.rcParams[\"figure.figsize\"]\n",
    "    fig_size[0] = 5\n",
    "    fig_size[1] = 5\n",
    "    plt.rcParams[\"figure.figsize\"] = fig_size\n",
    "        \n",
    "    # Cycle through lists of predictions and labels and generate roc curves\n",
    "    for preds, y_test, curve_title in zip(preds_list, y_test_list, curve_titles_list):\n",
    "        fpr, tpr, thresholds = metrics.roc_curve(y_test[:,1], preds[:,1])\n",
    "        auc_score = auc(fpr,tpr)\n",
    "        curve_label = curve_title + ' (AUC=%0.2f)' % float(auc_score)\n",
    "        if len(preds_list) == 1:\n",
    "            plt.plot(fpr,tpr,label= curve_label, color=\"darkorange\")\n",
    "        else:\n",
    "            plt.plot(fpr,tpr,label= curve_label)\n",
    "    \n",
    "    # Plot diagonal line\n",
    "    plt.plot([0, 1], [0, 1], color='navy', lw=2, linestyle='--')\n",
    "   \n",
    "    # Set axes and titles\n",
    "    plt.xlim([0, 1.0])\n",
    "    plt.ylim([0, 1.0])\n",
    "    plt.xlabel('False Positive Rate')\n",
    "    plt.ylabel('True Positive Rate')\n",
    "    plt.title(mainTitle)\n",
    "    plt.legend(loc=\"lower right\")\n",
    "    \n",
    "    # Display\n",
    "    plt.show()\n",
    "\n",
    "plot_roc([preds_dr, preds_cxr, preds_derm],\n",
    "         [y_test_dr, y_test_cxr, y_test_derm],\n",
    "         ['Retinopathy', 'Pneumothorax', 'Melanoma'],\n",
    "         \"Performance of baseline diagnostic models\")\n",
    "\n",
    "#plot_roc(preds_dr,\n",
    "#         y_test_dr,\n",
    "#         'Retinopathy',\n",
    "#         \"Performance of baseline diagnostic models\")"
   ]
  },
  {
   "cell_type": "markdown",
   "metadata": {},
   "source": [
    "### DR"
   ]
  },
  {
   "cell_type": "code",
   "execution_count": null,
   "metadata": {},
   "outputs": [],
   "source": [
    "# Recall of positive class is sensitivity, recall of negative class is spec\n",
    "from sklearn.metrics import classification_report\n",
    "print(\"DR performance:\")\n",
    "print(classification_report(y_test_dr[:,1], (preds_dr[:,1] > 0.14) ))"
   ]
  },
  {
   "cell_type": "markdown",
   "metadata": {},
   "source": [
    "### CXR"
   ]
  },
  {
   "cell_type": "code",
   "execution_count": null,
   "metadata": {},
   "outputs": [],
   "source": [
    "print(\"CXR performance:\")\n",
    "print(classification_report(y_test_cxr[:,1], (preds_cxr[:,1] > 0.025)))"
   ]
  },
  {
   "cell_type": "markdown",
   "metadata": {},
   "source": [
    "### Derm"
   ]
  },
  {
   "cell_type": "code",
   "execution_count": null,
   "metadata": {},
   "outputs": [],
   "source": [
    "print(\"Derm performance:\")\n",
    "print(classification_report(y_test_derm[:,1],  (preds_derm[:,1] > 0.02)))"
   ]
  }
 ],
 "metadata": {
  "kernelspec": {
   "display_name": "Python 3",
   "language": "python",
   "name": "python3"
  },
  "language_info": {
   "codemirror_mode": {
    "name": "ipython",
    "version": 3
   },
   "file_extension": ".py",
   "mimetype": "text/x-python",
   "name": "python",
   "nbconvert_exporter": "python",
   "pygments_lexer": "ipython3",
   "version": "3.6.5"
  }
 },
 "nbformat": 4,
 "nbformat_minor": 2
}
